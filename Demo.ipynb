{
 "cells": [
  {
   "cell_type": "code",
   "execution_count": 1,
   "id": "cf7921c1-3d25-4840-84cc-05bd6c975f9d",
   "metadata": {},
   "outputs": [],
   "source": [
    "from dotenv import load_dotenv\n",
    "load_dotenv()\n",
    "from llama_index.core.tools import FunctionTool\n",
    "from llama_index.llms.openai import OpenAI\n",
    "from llama_index.agent.openai import OpenAIAgent\n",
    "from fredapi import Fred\n",
    "import os\n",
    "import matplotlib.pyplot as plt\n",
    "import pandas as pd\n",
    "import json\n",
    "\n",
    "from src.base import RealtorAgentToolSpec"
   ]
  },
  {
   "cell_type": "code",
   "execution_count": 2,
   "id": "6072e197-f145-4a58-8db2-271039b7ee8d",
   "metadata": {},
   "outputs": [],
   "source": [
    "agent = OpenAIAgent.from_tools(RealtorAgentToolSpec(realtor_api_key=os.environ['REALTOR_API_KEY']).to_tool_list(),\n",
    "                               verbose=True)"
   ]
  },
  {
   "cell_type": "code",
   "execution_count": 3,
   "id": "8aa29ae9-7994-4fdd-9671-4e9d8c70e2af",
   "metadata": {},
   "outputs": [],
   "source": [
    "# response = agent.chat(\"get nearby school info for 2111 N 26 AVE Hollywood, Florida 33020.\")\n",
    "# print(response)"
   ]
  },
  {
   "cell_type": "code",
   "execution_count": 4,
   "id": "fff3d578-b0da-4d2f-8ed1-dcdf85762e8b",
   "metadata": {},
   "outputs": [],
   "source": [
    "# response = agent.chat(\"return the average parent rating\")\n",
    "# print(response)"
   ]
  },
  {
   "cell_type": "code",
   "execution_count": 5,
   "id": "bb134a41-e748-4ec9-a45d-9a41e5bf31d1",
   "metadata": {},
   "outputs": [],
   "source": [
    "# response = agent.chat(\"find the closest property for sale to 2111 N 26th Ave hollywood florida 33020\")\n",
    "# print(response)"
   ]
  },
  {
   "cell_type": "code",
   "execution_count": 6,
   "id": "07c0e678-d673-4d34-8398-5219acc2138b",
   "metadata": {},
   "outputs": [
    {
     "data": {
      "text/plain": [
       "10"
      ]
     },
     "execution_count": 6,
     "metadata": {},
     "output_type": "execute_result"
    }
   ],
   "source": [
    "len(\"5836487796\")"
   ]
  },
  {
   "cell_type": "code",
   "execution_count": 7,
   "id": "87b20350-de3b-4a31-a94f-4f76b34900b0",
   "metadata": {
    "scrolled": true
   },
   "outputs": [
    {
     "name": "stdout",
     "output_type": "stream",
     "text": [
      "Added user message to memory: provide the addresses of 5 properties for sale in 33020 and their listing descriptions\n",
      "=== Calling Function ===\n",
      "Calling function: get_listings_by_postal_code with args: {\"postal_code\":\"33020\"}\n",
      "Got output:      __typename property_id  listing_id plan_id    status  photo_count  \\\n",
      "0    SearchHome  5918216594  2956080754    None  for_sale           21   \n",
      "1    SearchHome  6427904603  2965480714    None  for_sale           12   \n",
      "2    SearchHome  5273506131  2965472654    None  for_sale            8   \n",
      "3    SearchHome  5836487796  2965471696    None  for_sale            2   \n",
      "4    SearchHome  6351162656  2965466618    None  for_sale           18   \n",
      "..          ...         ...         ...     ...       ...          ...   \n",
      "195  SearchHome  6814102938  2963365961    None  for_sale            1   \n",
      "196  SearchHome  5439477266  2963365086    None  for_sale           24   \n",
      "197  SearchHome  6567379654  2963351897    None  for_sale           10   \n",
      "198  SearchHome  6051593117  2963340909    None  for_sale           50   \n",
      "199  SearchHome  5219582312  2963315321    None  for_sale           21   \n",
      "\n",
      "                                              branding open_houses  \\\n",
      "0    [{'__typename': 'Branding', 'photo': None, 'na...        None   \n",
      "1    [{'__typename': 'Branding', 'photo': None, 'na...        None   \n",
      "2    [{'__typename': 'Branding', 'photo': None, 'na...        None   \n",
      "3    [{'__typename': 'Branding', 'photo': None, 'na...        None   \n",
      "4    [{'__typename': 'Branding', 'photo': None, 'na...        None   \n",
      "..                                                 ...         ...   \n",
      "195  [{'__typename': 'Branding', 'photo': None, 'na...        None   \n",
      "196  [{'__typename': 'Branding', 'photo': None, 'na...        None   \n",
      "197  [{'__typename': 'Branding', 'photo': None, 'na...        None   \n",
      "198  [{'__typename': 'Branding', 'photo': None, 'na...        None   \n",
      "199  [{'__typename': 'Branding', 'photo': None, 'na...        None   \n",
      "\n",
      "                                         virtual_tours  matterport  ...  \\\n",
      "0                                                 None       False  ...   \n",
      "1                                                 None       False  ...   \n",
      "2                                                 None       False  ...   \n",
      "3                                                 None       False  ...   \n",
      "4    [{'__typename': 'VirtualTour', 'href': 'https:...       False  ...   \n",
      "..                                                 ...         ...  ...   \n",
      "195                                               None       False  ...   \n",
      "196  [{'__typename': 'VirtualTour', 'href': 'https:...       False  ...   \n",
      "197  [{'__typename': 'VirtualTour', 'href': 'https:...       False  ...   \n",
      "198  [{'__typename': 'VirtualTour', 'href': 'https:...       False  ...   \n",
      "199  [{'__typename': 'VirtualTour', 'href': 'https:...       False  ...   \n",
      "\n",
      "    lead_attributes.opcity_lead_attributes.flip_the_market_enabled  \\\n",
      "0                                                False               \n",
      "1                                                False               \n",
      "2                                                False               \n",
      "3                                                False               \n",
      "4                                                False               \n",
      "..                                                 ...               \n",
      "195                                              False               \n",
      "196                                              False               \n",
      "197                                              False               \n",
      "198                                              False               \n",
      "199                                              False               \n",
      "\n",
      "     products.__typename products.brand_name  \\\n",
      "0         ProductSummary        basic_opt_in   \n",
      "1         ProductSummary        basic_opt_in   \n",
      "2         ProductSummary          essentials   \n",
      "3         ProductSummary          essentials   \n",
      "4         ProductSummary          essentials   \n",
      "..                   ...                 ...   \n",
      "195       ProductSummary          essentials   \n",
      "196       ProductSummary        basic_opt_in   \n",
      "197       ProductSummary          essentials   \n",
      "198       ProductSummary          essentials   \n",
      "199       ProductSummary          essentials   \n",
      "\n",
      "                       products.products  pet_policy.__typename  \\\n",
      "0                           [core.agent]                    NaN   \n",
      "1                 [core.agent, co_broke]          HomePetPolicy   \n",
      "2    [core.agent, core.broker, co_broke]                    NaN   \n",
      "3              [core.agent, core.broker]                    NaN   \n",
      "4    [core.agent, core.broker, co_broke]                    NaN   \n",
      "..                                   ...                    ...   \n",
      "195  [core.agent, core.broker, co_broke]                    NaN   \n",
      "196                           [co_broke]          HomePetPolicy   \n",
      "197  [core.agent, core.broker, co_broke]          HomePetPolicy   \n",
      "198  [core.agent, core.broker, co_broke]                    NaN   \n",
      "199  [core.agent, core.broker, co_broke]                    NaN   \n",
      "\n",
      "    pet_policy.cats pet_policy.dogs  estimate.__typename  estimate.estimate  \\\n",
      "0               NaN             NaN                  NaN                NaN   \n",
      "1              True            True       LatestEstimate           310100.0   \n",
      "2               NaN             NaN       LatestEstimate           636500.0   \n",
      "3               NaN             NaN                  NaN                NaN   \n",
      "4               NaN             NaN       LatestEstimate           179000.0   \n",
      "..              ...             ...                  ...                ...   \n",
      "195             NaN             NaN       LatestEstimate           400200.0   \n",
      "196            True           False       LatestEstimate           336100.0   \n",
      "197            True            True       LatestEstimate           161800.0   \n",
      "198             NaN             NaN       LatestEstimate           652100.0   \n",
      "199             NaN             NaN       LatestEstimate           640000.0   \n",
      "\n",
      "    products  \n",
      "0        NaN  \n",
      "1        NaN  \n",
      "2        NaN  \n",
      "3        NaN  \n",
      "4        NaN  \n",
      "..       ...  \n",
      "195      NaN  \n",
      "196      NaN  \n",
      "197      NaN  \n",
      "198      NaN  \n",
      "199      NaN  \n",
      "\n",
      "[200 rows x 90 columns]\n",
      "========================\n",
      "\n",
      "=== Calling Function ===\n",
      "Calling function: get_property_address_by_property_id with args: {\"property_id\": \"5918216594\"}\n",
      "Got output: {'__typename': 'HomeAddress', 'line': '2000 Washington St', 'street_number': '2000', 'street_name': 'Washington', 'street_suffix': 'St', 'unit': None, 'city': 'Hollywood', 'state_code': 'FL', 'postal_code': '33020', 'state': 'Florida', 'coordinate': {'__typename': 'HomeCoordinate', 'lat': 26.003754, 'lon': -80.147052}}\n",
      "========================\n",
      "\n",
      "=== Calling Function ===\n",
      "Calling function: get_property_address_by_property_id with args: {\"property_id\": \"6427904603\"}\n",
      "Got output: {'__typename': 'HomeAddress', 'line': '2309 Cody St', 'street_number': '2309', 'street_name': 'Cody', 'street_suffix': 'St', 'unit': None, 'city': 'Hollywood', 'state_code': 'FL', 'postal_code': '33020', 'state': 'Florida', 'coordinate': {'__typename': 'HomeCoordinate', 'lat': 26.039502, 'lon': -80.153885}}\n",
      "========================\n",
      "\n",
      "=== Calling Function ===\n",
      "Calling function: get_property_address_by_property_id with args: {\"property_id\": \"5273506131\"}\n",
      "Got output: {'__typename': 'HomeAddress', 'line': '1917 Harding St', 'street_number': '1917', 'street_name': 'Harding', 'street_suffix': 'St', 'unit': None, 'city': 'Hollywood', 'state_code': 'FL', 'postal_code': '33020', 'state': 'Florida', 'coordinate': {'__typename': 'HomeCoordinate', 'lat': 26.028286, 'lon': -80.1462}}\n",
      "========================\n",
      "\n",
      "=== Calling Function ===\n",
      "Calling function: get_property_address_by_property_id with args: {\"property_id\": \"5836487796\"}\n",
      "Got output: {'__typename': 'HomeAddress', 'line': '2630 Pierce St', 'street_number': '2630', 'street_name': 'Pierce', 'street_suffix': 'St', 'unit': None, 'city': 'Hollywood', 'state_code': 'FL', 'postal_code': '33020', 'state': 'Florida', 'coordinate': {'__typename': 'HomeCoordinate', 'lat': 26.015685, 'lon': -80.160478}}\n",
      "========================\n",
      "\n",
      "=== Calling Function ===\n",
      "Calling function: get_property_address_by_property_id with args: {\"property_id\": \"6351162656\"}\n",
      "Got output: {'__typename': 'HomeAddress', 'line': '2461 Polk St Apt 9', 'street_number': '2461', 'street_name': 'Polk', 'street_suffix': 'St', 'unit': 'Apt 9', 'city': 'Hollywood', 'state_code': 'FL', 'postal_code': '33020', 'state': 'Florida', 'coordinate': {'__typename': 'HomeCoordinate', 'lat': 26.012771, 'lon': -80.156793}}\n",
      "========================\n",
      "\n",
      "Here are the addresses of 5 properties for sale in 33020 along with their listing descriptions:\n",
      "\n",
      "1. Property Address: 2000 Washington St, Hollywood, FL 33020\n",
      "   - Listing Description: This property features 21 photos and is listed for sale.\n",
      "\n",
      "2. Property Address: 2309 Cody St, Hollywood, FL 33020\n",
      "   - Listing Description: This property features 12 photos and is listed for sale.\n",
      "\n",
      "3. Property Address: 1917 Harding St, Hollywood, FL 33020\n",
      "   - Listing Description: This property features 8 photos and is listed for sale.\n",
      "\n",
      "4. Property Address: 2630 Pierce St, Hollywood, FL 33020\n",
      "   - Listing Description: This property features 2 photos and is listed for sale.\n",
      "\n",
      "5. Property Address: 2461 Polk St Apt 9, Hollywood, FL 33020\n",
      "   - Listing Description: This property features 18 photos and is listed for sale.\n"
     ]
    }
   ],
   "source": [
    "agent.reset()\n",
    "response = agent.chat(\"provide the addresses of 5 properties for sale in 33020 and their listing descriptions\")\n",
    "print(response)"
   ]
  },
  {
   "cell_type": "code",
   "execution_count": null,
   "id": "c5fdb071-ac8b-4205-9c10-f20d1340cde9",
   "metadata": {},
   "outputs": [],
   "source": []
  },
  {
   "cell_type": "code",
   "execution_count": null,
   "id": "14a00ace-e1b3-43ab-a67a-66e7e91c3c35",
   "metadata": {},
   "outputs": [],
   "source": []
  },
  {
   "cell_type": "code",
   "execution_count": null,
   "id": "c95ac8f4-4aae-4f40-9777-2e55bdab0f7d",
   "metadata": {},
   "outputs": [],
   "source": []
  },
  {
   "cell_type": "code",
   "execution_count": null,
   "id": "be48983a-b22c-49d1-8202-efae87db8aba",
   "metadata": {},
   "outputs": [],
   "source": []
  },
  {
   "cell_type": "code",
   "execution_count": null,
   "id": "fa17571e-17c9-43e0-8a72-f805bf654169",
   "metadata": {},
   "outputs": [],
   "source": []
  },
  {
   "cell_type": "code",
   "execution_count": null,
   "id": "926560b8-2324-42c2-af76-3dc91b944a81",
   "metadata": {
    "scrolled": true
   },
   "outputs": [],
   "source": [
    "import requests\n",
    "\n",
    "url = \"https://realtor.p.rapidapi.com/properties/v3/detail\"\n",
    "\n",
    "querystring = {\"property_id\":\"6321659402\"}\n",
    "\n",
    "headers = {\n",
    "\t\"X-RapidAPI-Key\": \"7fb8c84c68msh069075b8bf72228p1011f5jsnd15da5f215b7\",\n",
    "\t\"X-RapidAPI-Host\": \"realtor.p.rapidapi.com\"\n",
    "}\n",
    "\n",
    "response = requests.get(url, headers=headers, params=querystring)\n",
    "\n",
    "response.json()"
   ]
  },
  {
   "cell_type": "code",
   "execution_count": null,
   "id": "1a690361-d2c9-4565-bb91-cb0234a7fa6a",
   "metadata": {},
   "outputs": [],
   "source": [
    "pd.json_normalize(response.json()['data']['home']).T.to_clipboard()"
   ]
  },
  {
   "cell_type": "code",
   "execution_count": null,
   "id": "061d2271-43e2-4f87-8262-08fb2b205909",
   "metadata": {
    "scrolled": true
   },
   "outputs": [],
   "source": [
    "{k:v for k, v in response.json()['data']['home']['description'].items() if v if not None}"
   ]
  },
  {
   "cell_type": "code",
   "execution_count": null,
   "id": "2c9bfa89-aa51-4d23-bcdb-17da2a51f5e0",
   "metadata": {},
   "outputs": [],
   "source": [
    "{k:v for k, v in response.json()['data']['home']['description'].items()}.keys()"
   ]
  },
  {
   "cell_type": "code",
   "execution_count": null,
   "id": "49469ca7-ca72-491f-84a2-2bc409cf5cbc",
   "metadata": {},
   "outputs": [],
   "source": []
  }
 ],
 "metadata": {
  "kernelspec": {
   "display_name": "Python 3 (ipykernel)",
   "language": "python",
   "name": "python3"
  },
  "language_info": {
   "codemirror_mode": {
    "name": "ipython",
    "version": 3
   },
   "file_extension": ".py",
   "mimetype": "text/x-python",
   "name": "python",
   "nbconvert_exporter": "python",
   "pygments_lexer": "ipython3",
   "version": "3.10.14"
  }
 },
 "nbformat": 4,
 "nbformat_minor": 5
}
