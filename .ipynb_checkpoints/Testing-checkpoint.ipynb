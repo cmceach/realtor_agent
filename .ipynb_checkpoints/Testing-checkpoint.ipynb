{
 "cells": [
  {
   "cell_type": "code",
   "execution_count": 168,
   "id": "79fbacd9-2dbf-4bb4-b577-93303aa58557",
   "metadata": {},
   "outputs": [],
   "source": [
    "from dotenv import load_dotenv\n",
    "load_dotenv()\n",
    "from llama_index.core.tools import FunctionTool\n",
    "from llama_index.llms.openai import OpenAI\n",
    "from llama_index.agent.openai import OpenAIAgent\n",
    "from fredapi import Fred\n",
    "import os\n",
    "import matplotlib.pyplot as plt\n",
    "import pandas as pd\n",
    "import json"
   ]
  },
  {
   "cell_type": "code",
   "execution_count": 2,
   "id": "207089b5-7a9d-48f6-96ce-d2391e161bcc",
   "metadata": {},
   "outputs": [],
   "source": [
    "note_file = os.path.join(\"data\", \"notes.txt\")\n",
    "\n",
    "def save_note(note):\n",
    "    with open(note_file, \"a\") as f:\n",
    "        f.writelines([note + \"\\n\"])\n",
    "    return \"note saved\"\n",
    "\n",
    "note_engine = FunctionTool.from_defaults(\n",
    "    fn=save_note,\n",
    "    name=\"note_saver\",\n",
    "    description=\"this tool can save a text based note to a file for the user\",\n",
    ")"
   ]
  },
  {
   "cell_type": "code",
   "execution_count": 99,
   "id": "090698e1-6985-4217-a539-f59d37daf13a",
   "metadata": {},
   "outputs": [],
   "source": [
    "def get_fred_data(series_id: str):\n",
    "    \"\"\"Given a series id, returns a json of data.\"\"\"\n",
    "    fred = Fred(api_key=os.environ[\"FRED_API_KEY\"])\n",
    "    data = fred.get_series(series_id)\n",
    "    json_data = data.to_frame().tail(10).reset_index().rename({'index':'date',\n",
    "                                                      0:'values'}, axis=1).astype(str).to_json(orient='records')\n",
    "    return json_data\n",
    "\n",
    "fred_data_engine = FunctionTool.from_defaults(\n",
    "    fn=get_fred_data,\n",
    "    name=\"get_fred_data\",\n",
    "    description=\"this tool can get financial and economic data for the user\",\n",
    ")"
   ]
  },
  {
   "cell_type": "code",
   "execution_count": 100,
   "id": "767abb2e-f986-466f-95b8-6fa88555f116",
   "metadata": {},
   "outputs": [],
   "source": [
    "agent = OpenAIAgent.from_tools(\n",
    "    [note_engine, fred_data_engine], verbose=True\n",
    ")"
   ]
  },
  {
   "cell_type": "code",
   "execution_count": 101,
   "id": "0896b09e-171a-44d6-9ea8-589bcf544146",
   "metadata": {},
   "outputs": [
    {
     "name": "stdout",
     "output_type": "stream",
     "text": [
      "Added user message to memory: Collect data from the FRED for the the us 10 year treasury rate.\n",
      "save a note that writes whether the rate has increased or decreased from July 2023 to October 2023\n",
      "=== Calling Function ===\n",
      "Calling function: get_fred_data with args: {\"series_id\":\"GS10\"}\n",
      "Got output: [{\"date\":\"2023-05-01\",\"values\":\"3.57\"},{\"date\":\"2023-06-01\",\"values\":\"3.75\"},{\"date\":\"2023-07-01\",\"values\":\"3.9\"},{\"date\":\"2023-08-01\",\"values\":\"4.17\"},{\"date\":\"2023-09-01\",\"values\":\"4.38\"},{\"date\":\"2023-10-01\",\"values\":\"4.8\"},{\"date\":\"2023-11-01\",\"values\":\"4.5\"},{\"date\":\"2023-12-01\",\"values\":\"4.02\"},{\"date\":\"2024-01-01\",\"values\":\"4.06\"},{\"date\":\"2024-02-01\",\"values\":\"4.21\"}]\n",
      "========================\n",
      "\n",
      "=== Calling Function ===\n",
      "Calling function: note_saver with args: {\"note\":\"The US 10-year Treasury rate increased from 3.9% in July 2023 to 4.8% in October 2023.\"}\n",
      "Got output: note saved\n",
      "========================\n",
      "\n",
      "I have collected the data from FRED for the US 10-year Treasury rate. The rate increased from 3.9% in July 2023 to 4.8% in October 2023. I have saved a note with this information.\n"
     ]
    }
   ],
   "source": [
    "response = agent.chat('''Collect data from the FRED for the the us 10 year treasury rate.\n",
    "save a note that writes whether the rate has increased or decreased from July 2023 to October 2023''')\n",
    "print(response)"
   ]
  },
  {
   "cell_type": "code",
   "execution_count": 147,
   "id": "80afa457-113c-4923-8e47-96a2901228be",
   "metadata": {},
   "outputs": [],
   "source": [
    "def search_fred_data(data_description: str):\n",
    "    \"\"\"Given a series description, returns a dictionary that includes the series title and description.\"\"\"\n",
    "    fred = Fred(api_key=os.environ[\"FRED_API_KEY\"])\n",
    "    search_data = fred.search(data_description).head(10).astype(str).to_dict()\n",
    "    return search_data\n",
    "\n",
    "\n",
    "fred_search_data_engine = FunctionTool.from_defaults(\n",
    "    fn=search_fred_data,\n",
    "    name=\"search_fred_data\",\n",
    "    description=\"this tool can help find data described by the user.\",\n",
    ")"
   ]
  },
  {
   "cell_type": "code",
   "execution_count": 112,
   "id": "4cbe3818-3e36-4f59-baa7-df54b6b6f624",
   "metadata": {},
   "outputs": [],
   "source": [
    "agent = OpenAIAgent.from_tools([fred_search_data_engine], verbose=True)"
   ]
  },
  {
   "cell_type": "code",
   "execution_count": 114,
   "id": "21ed6559-e6ed-4d03-bb8f-7a6bd82b6a96",
   "metadata": {
    "collapsed": true,
    "jupyter": {
     "outputs_hidden": true
    },
    "scrolled": true
   },
   "outputs": [
    {
     "name": "stdout",
     "output_type": "stream",
     "text": [
      "Added user message to memory: Find 3 series names and ids similar to us home prices\n",
      "=== Calling Function ===\n",
      "Calling function: search_fred_data with args: {\"data_description\":\"US home prices\"}\n",
      "Got output: [{\"id\":\"CSUSHPINSA\",\"realtime_start\":\"2024-03-23\",\"realtime_end\":\"2024-03-23\",\"title\":\"S&P CoreLogic Case-Shiller U.S. National Home Price Index\",\"observation_start\":\"1987-01-01\",\"observation_end\":\"2023-12-01\",\"frequency\":\"Monthly\",\"frequency_short\":\"M\",\"units\":\"Index Jan 2000=100\",\"units_short\":\"Index Jan 2000=100\",\"seasonal_adjustment\":\"Not Seasonally Adjusted\",\"seasonal_adjustment_short\":\"NSA\",\"last_updated\":\"2024-02-27 08:14:02-06:00\",\"popularity\":\"88\",\"notes\":\"For more information regarding the index, please visit Standard & Poor's (https:\\/\\/www.spglobal.com\\/spdji\\/en\\/documents\\/methodologies\\/methodology-sp-corelogic-cs-home-price-indices.pdf). There is more information about home price sales pairs in the Methodology section. Copyright, 2016, Standard & Poor's Financial Services LLC. Reprinted with permission.\"},{\"id\":\"CSUSHPISA\",\"realtime_start\":\"2024-03-23\",\"realtime_end\":\"2024-03-23\",\"title\":\"S&P CoreLogic Case-Shiller U.S. National Home Price Index\",\"observation_start\":\"1987-01-01\",\"observation_end\":\"2023-12-01\",\"frequency\":\"Monthly\",\"frequency_short\":\"M\",\"units\":\"Index Jan 2000=100\",\"units_short\":\"Index Jan 2000=100\",\"seasonal_adjustment\":\"Seasonally Adjusted\",\"seasonal_adjustment_short\":\"SA\",\"last_updated\":\"2024-02-27 08:14:03-06:00\",\"popularity\":\"78\",\"notes\":\"For more information regarding the index, please visit Standard & Poor's (https:\\/\\/www.spglobal.com\\/spdji\\/en\\/documents\\/methodologies\\/methodology-sp-corelogic-cs-home-price-indices.pdf). There is more information about home price sales pairs in the Methodology section. Copyright, 2016, Standard & Poor's Financial Services LLC. Reprinted with permission.\"},{\"id\":\"MSPUS\",\"realtime_start\":\"2024-03-23\",\"realtime_end\":\"2024-03-23\",\"title\":\"Median Sales Price of Houses Sold for the United States\",\"observation_start\":\"1963-01-01\",\"observation_end\":\"2023-10-01\",\"frequency\":\"Quarterly\",\"frequency_short\":\"Q\",\"units\":\"Dollars\",\"units_short\":\"$\",\"seasonal_adjustment\":\"Not Seasonally Adjusted\",\"seasonal_adjustment_short\":\"NSA\",\"last_updated\":\"2024-01-25 09:01:01-06:00\",\"popularity\":\"90\",\"notes\":\"None\"},{\"id\":\"ASPUS\",\"realtime_start\":\"2024-03-23\",\"realtime_end\":\"2024-03-23\",\"title\":\"Average Sales Price of Houses Sold for the United States\",\"observation_start\":\"1963-01-01\",\"observation_end\":\"2023-10-01\",\"frequency\":\"Quarterly\",\"frequency_short\":\"Q\",\"units\":\"Dollars\",\"units_short\":\"$\",\"seasonal_adjustment\":\"Not Seasonally Adjusted\",\"seasonal_adjustment_short\":\"NSA\",\"last_updated\":\"2024-01-25 09:01:03-06:00\",\"popularity\":\"84\",\"notes\":\"None\"},{\"id\":\"USSTHPI\",\"realtime_start\":\"2024-03-23\",\"realtime_end\":\"2024-03-23\",\"title\":\"All-Transactions House Price Index for the United States\",\"observation_start\":\"1975-01-01\",\"observation_end\":\"2023-10-01\",\"frequency\":\"Quarterly\",\"frequency_short\":\"Q\",\"units\":\"Index 1980:Q1=100\",\"units_short\":\"Index 1980 Q1=100\",\"seasonal_adjustment\":\"Not Seasonally Adjusted\",\"seasonal_adjustment_short\":\"NSA\",\"last_updated\":\"2024-02-27 09:02:03-06:00\",\"popularity\":\"75\",\"notes\":\"Estimated using sales prices and appraisal data.\"},{\"id\":\"EXHOSLUSM495S\",\"realtime_start\":\"2024-03-23\",\"realtime_end\":\"2024-03-23\",\"title\":\"Existing Home Sales\",\"observation_start\":\"2023-02-01\",\"observation_end\":\"2024-02-01\",\"frequency\":\"Monthly\",\"frequency_short\":\"M\",\"units\":\"Number of Units\",\"units_short\":\"Number of Units\",\"seasonal_adjustment\":\"Seasonally Adjusted Annual Rate\",\"seasonal_adjustment_short\":\"SAAR\",\"last_updated\":\"2024-03-21 09:15:23-05:00\",\"popularity\":\"75\",\"notes\":\"The National Association of Realtors monthly housing indicators are based on a representative sample of local boards and multiple listing services. Sales volume, inventory, and price levels for existing homes are measured for the US in aggregate and by census region. Existing homes, unlike new homes, are homes that are owned and occupied before coming onto the market.  Existing-home sales measures the transaction volume of existing single-family homes, condos, and co-ops.  For more information, see Methodology: Existing-Home Sales (https:\\/\\/www.nar.realtor\\/research-and-statistics\\/housing-statistics\\/existing-home-sales\\/methodology).  Copyright, 2016, National Association of Realtors. Reprinted with permission.\"},{\"id\":\"CASTHPI\",\"realtime_start\":\"2024-03-23\",\"realtime_end\":\"2024-03-23\",\"title\":\"All-Transactions House Price Index for California\",\"observation_start\":\"1975-01-01\",\"observation_end\":\"2023-10-01\",\"frequency\":\"Quarterly\",\"frequency_short\":\"Q\",\"units\":\"Index 1980:Q1=100\",\"units_short\":\"Index 1980 Q1=100\",\"seasonal_adjustment\":\"Not Seasonally Adjusted\",\"seasonal_adjustment_short\":\"NSA\",\"last_updated\":\"2024-02-27 09:02:03-06:00\",\"popularity\":\"71\",\"notes\":\"Estimated using sales prices and appraisal data.\"},{\"id\":\"EXHOSLUSM495N\",\"realtime_start\":\"2024-03-23\",\"realtime_end\":\"2024-03-23\",\"title\":\"Existing Home Sales\",\"observation_start\":\"2023-02-01\",\"observation_end\":\"2024-02-01\",\"frequency\":\"Monthly\",\"frequency_short\":\"M\",\"units\":\"Number of Units\",\"units_short\":\"Number of Units\",\"seasonal_adjustment\":\"Not Seasonally Adjusted\",\"seasonal_adjustment_short\":\"NSA\",\"last_updated\":\"2024-03-21 09:15:21-05:00\",\"popularity\":\"45\",\"notes\":\"The National Association of Realtors monthly housing indicators are based on a representative sample of local boards and multiple listing services. Sales volume, inventory, and price levels for existing homes are measured for the US in aggregate and by census region. Existing homes, unlike new homes, are homes that are owned and occupied before coming onto the market.  Existing-home sales measures the transaction volume of existing single-family homes, condos, and co-ops.  For more information, see Methodology: Existing-Home Sales (https:\\/\\/www.nar.realtor\\/research-and-statistics\\/housing-statistics\\/existing-home-sales\\/methodology).  Copyright, 2016, National Association of Realtors. Reprinted with permission.\"},{\"id\":\"CUSR0000SAF11\",\"realtime_start\":\"2024-03-23\",\"realtime_end\":\"2024-03-23\",\"title\":\"Consumer Price Index for All Urban Consumers: Food at Home in U.S. City Average\",\"observation_start\":\"1952-01-01\",\"observation_end\":\"2024-02-01\",\"frequency\":\"Monthly\",\"frequency_short\":\"M\",\"units\":\"Index 1982-1984=100\",\"units_short\":\"Index 1982-1984=100\",\"seasonal_adjustment\":\"Seasonally Adjusted\",\"seasonal_adjustment_short\":\"SA\",\"last_updated\":\"2024-03-12 07:40:03-05:00\",\"popularity\":\"69\",\"notes\":\"None\"},{\"id\":\"SPCS20RSA\",\"realtime_start\":\"2024-03-23\",\"realtime_end\":\"2024-03-23\",\"title\":\"S&P CoreLogic Case-Shiller 20-City Composite Home Price Index\",\"observation_start\":\"2000-01-01\",\"observation_end\":\"2023-12-01\",\"frequency\":\"Monthly\",\"frequency_short\":\"M\",\"units\":\"Index Jan 2000=100\",\"units_short\":\"Index Jan 2000=100\",\"seasonal_adjustment\":\"Seasonally Adjusted\",\"seasonal_adjustment_short\":\"SA\",\"last_updated\":\"2024-02-27 08:14:03-06:00\",\"popularity\":\"67\",\"notes\":\"For more information regarding the index, please visit Standard and Poor's (https:\\/\\/us.spindices.com\\/index-family\\/sp-corelogic-case-shiller\\/sp-corelogic-case-shiller-composite).  Copyright \\u00a9 2016, S&P Dow Jones Indices LLC. All rights reserved. Reproduction of S&P Case-Shiller 20-City Home Price Index in any form is prohibited except with the prior written permission of S&P Dow Jones Indices LLC \\\"S&P\\\". S&P does not guarantee the accuracy, adequacy, completeness or availability of any information and is not responsible for any errors or omissions, regardless of the cause or for the results obtained from the use of such information. S&P DISCLAIMS ANY AND ALL EXPRESS OR IMPLIED WARRANTIES, INCLUDING, BUT NOT LIMITED TO, ANY WARRANTIES OF MERCHANTABILITY OR FITNESS FOR A PARTICULAR PURPOSE OR USE. In no event shall S&P be liable for any direct, indirect, special or consequential damages, costs, expenses, legal fees, or losses (including lost income or lost profit and opportunity costs) in connection with subscriber's or others' user of S&P Case-Shiller 20-City Home Price Index.  Permission to reproduce this series can be requested from index_services@spdji.com. More contact details (http:\\/\\/us.spindices.com\\/contact-us\\/) are available, including phone numbers for all regional offices.\"}]\n",
      "========================\n",
      "\n",
      "Here are 3 series similar to US home prices:\n",
      "\n",
      "1. **S&P CoreLogic Case-Shiller U.S. National Home Price Index (Not Seasonally Adjusted)**\n",
      "   - ID: CSUSHPINSA\n",
      "   - Frequency: Monthly\n",
      "   - Units: Index Jan 2000=100\n",
      "\n",
      "2. **Median Sales Price of Houses Sold for the United States**\n",
      "   - ID: MSPUS\n",
      "   - Frequency: Quarterly\n",
      "   - Units: Dollars\n",
      "\n",
      "3. **Average Sales Price of Houses Sold for the United States**\n",
      "   - ID: ASPUS\n",
      "   - Frequency: Quarterly\n",
      "   - Units: Dollars\n",
      "\n",
      "These series provide data related to home prices in the United States.\n"
     ]
    }
   ],
   "source": [
    "agent.reset()\n",
    "response = agent.chat('''Find 3 series names and ids similar to us home prices''')\n",
    "print(response)"
   ]
  },
  {
   "cell_type": "code",
   "execution_count": 152,
   "id": "4f103672-0f30-414a-9300-286bf107e5e4",
   "metadata": {},
   "outputs": [],
   "source": [
    "def plot_fred_data(data):\n",
    "    \"\"\"Given a dictionary of data, creates a pandas dataframe and saves a line plot of the dataframe.\"\"\"\n",
    "    df = pd.DataFrame.from_dict(data)\n",
    "    df['values'] = pd.to_numeric(df['values'])\n",
    "    df.plot()\n",
    "    plt.savefig('myplot.png')\n",
    "    return \"Line plot saved\"\n",
    "\n",
    "\n",
    "fred_plot_engine = FunctionTool.from_defaults(\n",
    "    fn=plot_fred_data,\n",
    "    name=\"plot_fred_data\",\n",
    "    description=\"this tool can help save a plot of the data.\",\n",
    ")"
   ]
  },
  {
   "cell_type": "code",
   "execution_count": 167,
   "id": "3b6999b5-b54c-4b6c-8017-381b37fdef37",
   "metadata": {},
   "outputs": [
    {
     "name": "stdout",
     "output_type": "stream",
     "text": [
      "Added user message to memory: Save a plot of us gdp data.\n",
      "=== Calling Function ===\n",
      "Calling function: search_fred_data with args: {\"data_description\":\"US GDP\"}\n",
      "Got output: {'id': {'GDP': 'GDP', 'GDPC1': 'GDPC1', 'GDPA': 'GDPA', 'GDPCA': 'GDPCA', 'NA000334Q': 'NA000334Q', 'FYGDP': 'FYGDP', 'ND000334Q': 'ND000334Q', 'OB000334Q': 'OB000334Q', 'A191RL1Q225SBEA': 'A191RL1Q225SBEA', 'NC000334Q': 'NC000334Q'}, 'realtime_start': {'GDP': '2024-03-24', 'GDPC1': '2024-03-24', 'GDPA': '2024-03-24', 'GDPCA': '2024-03-24', 'NA000334Q': '2024-03-24', 'FYGDP': '2024-03-24', 'ND000334Q': '2024-03-24', 'OB000334Q': '2024-03-24', 'A191RL1Q225SBEA': '2024-03-24', 'NC000334Q': '2024-03-24'}, 'realtime_end': {'GDP': '2024-03-24', 'GDPC1': '2024-03-24', 'GDPA': '2024-03-24', 'GDPCA': '2024-03-24', 'NA000334Q': '2024-03-24', 'FYGDP': '2024-03-24', 'ND000334Q': '2024-03-24', 'OB000334Q': '2024-03-24', 'A191RL1Q225SBEA': '2024-03-24', 'NC000334Q': '2024-03-24'}, 'title': {'GDP': 'Gross Domestic Product', 'GDPC1': 'Real Gross Domestic Product', 'GDPA': 'Gross Domestic Product', 'GDPCA': 'Real Gross Domestic Product', 'NA000334Q': 'Gross Domestic Product', 'FYGDP': 'Gross Domestic Product', 'ND000334Q': 'Real Gross Domestic Product', 'OB000334Q': 'Real Gross Domestic Product', 'A191RL1Q225SBEA': 'Real Gross Domestic Product', 'NC000334Q': 'Gross Domestic Product'}, 'observation_start': {'GDP': '1947-01-01', 'GDPC1': '1947-01-01', 'GDPA': '1929-01-01', 'GDPCA': '1929-01-01', 'NA000334Q': '1947-01-01', 'FYGDP': '1930-06-30', 'ND000334Q': '2002-01-01', 'OB000334Q': '2003-01-01', 'A191RL1Q225SBEA': '1947-04-01', 'NC000334Q': '2002-01-01'}, 'observation_end': {'GDP': '2023-10-01', 'GDPC1': '2023-10-01', 'GDPA': '2023-01-01', 'GDPCA': '2023-01-01', 'NA000334Q': '2023-10-01', 'FYGDP': '2023-09-30', 'ND000334Q': '2023-10-01', 'OB000334Q': '2023-10-01', 'A191RL1Q225SBEA': '2023-10-01', 'NC000334Q': '2023-10-01'}, 'frequency': {'GDP': 'Quarterly', 'GDPC1': 'Quarterly', 'GDPA': 'Annual', 'GDPCA': 'Annual', 'NA000334Q': 'Quarterly', 'FYGDP': 'Annual, Fiscal Year', 'ND000334Q': 'Quarterly', 'OB000334Q': 'Quarterly', 'A191RL1Q225SBEA': 'Quarterly', 'NC000334Q': 'Quarterly'}, 'frequency_short': {'GDP': 'Q', 'GDPC1': 'Q', 'GDPA': 'A', 'GDPCA': 'A', 'NA000334Q': 'Q', 'FYGDP': 'A', 'ND000334Q': 'Q', 'OB000334Q': 'Q', 'A191RL1Q225SBEA': 'Q', 'NC000334Q': 'Q'}, 'units': {'GDP': 'Billions of Dollars', 'GDPC1': 'Billions of Chained 2017 Dollars', 'GDPA': 'Billions of Dollars', 'GDPCA': 'Billions of Chained 2017 Dollars', 'NA000334Q': 'Millions of Dollars', 'FYGDP': 'Billions of Dollars', 'ND000334Q': 'Billions of Chained 2017 Dollars', 'OB000334Q': 'Percent Change from Quarter One Year Ago', 'A191RL1Q225SBEA': 'Percent Change from Preceding Period', 'NC000334Q': 'Index 2017=100'}, 'units_short': {'GDP': 'Bil. of $', 'GDPC1': 'Bil. of Chn. 2017 $', 'GDPA': 'Bil. of $', 'GDPCA': 'Bil. of Chn. 2017 $', 'NA000334Q': 'Mil. of $', 'FYGDP': 'Bil. of $', 'ND000334Q': 'Bil. of Chn. 2017 $', 'OB000334Q': '% Chg. from Qtr.  1 Yr. Ago', 'A191RL1Q225SBEA': '% Chg. from Preceding Period', 'NC000334Q': 'Index 2017=100'}, 'seasonal_adjustment': {'GDP': 'Seasonally Adjusted Annual Rate', 'GDPC1': 'Seasonally Adjusted Annual Rate', 'GDPA': 'Not Seasonally Adjusted', 'GDPCA': 'Not Seasonally Adjusted', 'NA000334Q': 'Not Seasonally Adjusted', 'FYGDP': 'Not Seasonally Adjusted', 'ND000334Q': 'Not Seasonally Adjusted', 'OB000334Q': 'Not Seasonally Adjusted', 'A191RL1Q225SBEA': 'Seasonally Adjusted Annual Rate', 'NC000334Q': 'Not Seasonally Adjusted'}, 'seasonal_adjustment_short': {'GDP': 'SAAR', 'GDPC1': 'SAAR', 'GDPA': 'NSA', 'GDPCA': 'NSA', 'NA000334Q': 'NSA', 'FYGDP': 'NSA', 'ND000334Q': 'NSA', 'OB000334Q': 'NSA', 'A191RL1Q225SBEA': 'SAAR', 'NC000334Q': 'NSA'}, 'last_updated': {'GDP': '2024-02-28 07:57:02-06:00', 'GDPC1': '2024-02-28 07:57:02-06:00', 'GDPA': '2024-02-28 07:55:02-06:00', 'GDPCA': '2024-02-28 07:55:02-06:00', 'NA000334Q': '2024-02-28 07:56:04-06:00', 'FYGDP': '2024-03-11 12:01:04-05:00', 'ND000334Q': '2024-02-28 07:56:05-06:00', 'OB000334Q': '2024-02-28 07:56:08-06:00', 'A191RL1Q225SBEA': '2024-02-28 07:57:03-06:00', 'NC000334Q': '2024-02-28 07:56:09-06:00'}, 'popularity': {'GDP': '93', 'GDPC1': '92', 'GDPA': '64', 'GDPCA': '58', 'NA000334Q': '53', 'FYGDP': '47', 'ND000334Q': '45', 'OB000334Q': '35', 'A191RL1Q225SBEA': '74', 'NC000334Q': '31'}, 'notes': {'GDP': 'BEA Account Code: A191RC  Gross domestic product (GDP), the featured measure of U.S. output, is the market value of the goods and services produced by labor and property located in the United States.For more information, see the Guide to the National Income and Product Accounts of the United States (NIPA) and the Bureau of Economic Analysis (http://www.bea.gov/national/pdf/nipaguid.pdf).', 'GDPC1': 'BEA Account Code: A191RX  Real gross domestic product is the inflation adjusted value of the goods and services produced by labor and property located in the United States.For more information see the Guide to the National Income and Product Accounts of the United States (NIPA). For more information, please visit the Bureau of Economic Analysis (http://www.bea.gov/national/pdf/nipaguid.pdf).', 'GDPA': 'BEA Account Code: A191RC  ', 'GDPCA': 'BEA Account Code: A191RX  A Guide to the National Income and Product Accounts of the United States (http://www.bea.gov/national/pdf/nipaguid.pdf) (NIPA)', 'NA000334Q': 'BEA Account Code: NA000334', 'FYGDP': 'None', 'ND000334Q': 'BEA Account Code: ND000334', 'OB000334Q': 'BEA Account Code: OB000334', 'A191RL1Q225SBEA': \"BEA Account Code: A191RL  Gross domestic product (GDP) is the value of the goods and services produced by the nation's economy less the value of the goods and services used up in production. GDP is also equal to the sum of personal consumption expenditures, gross private domestic investment, net exports of goods and services, and government consumption expenditures and gross investment. Real values are inflation-adjusted estimates—that is, estimates that exclude the effects of price changes.  For more information about this series, please visit the Bureau of Economic Analysis (http://www.bea.gov/national/).\", 'NC000334Q': 'BEA Account Code: NC000334'}}\n",
      "========================\n",
      "\n",
      "=== Calling Function ===\n",
      "Calling function: get_fred_data with args: {\"series_id\":\"GDPCA\"}\n",
      "Got output: [{\"date\":\"2014-01-01\",\"values\":\"18261.714\"},{\"date\":\"2015-01-01\",\"values\":\"18799.622\"},{\"date\":\"2016-01-01\",\"values\":\"19141.672\"},{\"date\":\"2017-01-01\",\"values\":\"19612.102\"},{\"date\":\"2018-01-01\",\"values\":\"20193.896\"},{\"date\":\"2019-01-01\",\"values\":\"20692.087\"},{\"date\":\"2020-01-01\",\"values\":\"20234.074\"},{\"date\":\"2021-01-01\",\"values\":\"21407.692\"},{\"date\":\"2022-01-01\",\"values\":\"21822.037\"},{\"date\":\"2023-01-01\",\"values\":\"22374.339\"}]\n",
      "========================\n",
      "\n",
      "=== Calling Function ===\n",
      "Calling function: plot_fred_data with args: {\"data\":[{\"date\":\"2014-01-01\",\"values\":\"18261.714\"},{\"date\":\"2015-01-01\",\"values\":\"18799.622\"},{\"date\":\"2016-01-01\",\"values\":\"19141.672\"},{\"date\":\"2017-01-01\",\"values\":\"19612.102\"},{\"date\":\"2018-01-01\",\"values\":\"20193.896\"},{\"date\":\"2019-01-01\",\"values\":\"20692.087\"},{\"date\":\"2020-01-01\",\"values\":\"20234.074\"},{\"date\":\"2021-01-01\",\"values\":\"21407.692\"},{\"date\":\"2022-01-01\",\"values\":\"21822.037\"},{\"date\":\"2023-01-01\",\"values\":\"22374.339\"}]}\n",
      "Got output: Line plot saved\n",
      "========================\n",
      "\n",
      "The plot of US GDP data has been saved.\n"
     ]
    },
    {
     "data": {
      "image/png": "[encoded data removed]",
      "text/plain": [
       "<Figure size 640x480 with 1 Axes>"
      ]
     },
     "metadata": {},
     "output_type": "display_data"
    }
   ],
   "source": [
    "agent = OpenAIAgent.from_tools([fred_search_data_engine,\n",
    "                                fred_data_engine,\n",
    "                                fred_plot_engine],\n",
    "                                verbose=True)\n",
    "\n",
    "response = await agent.achat('''Save a plot of us gdp data.''')\n",
    "print(response)"
   ]
  }
 ],
 "metadata": {
  "kernelspec": {
   "display_name": "Python 3 (ipykernel)",
   "language": "python",
   "name": "python3"
  },
  "language_info": {
   "codemirror_mode": {
    "name": "ipython",
    "version": 3
   },
   "file_extension": ".py",
   "mimetype": "text/x-python",
   "name": "python",
   "nbconvert_exporter": "python",
   "pygments_lexer": "ipython3",
   "version": "3.10.0"
  }
 },
 "nbformat": 4,
 "nbformat_minor": 5
}
